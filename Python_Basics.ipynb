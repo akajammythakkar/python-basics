{
  "cells": [
    {
      "cell_type": "markdown",
      "metadata": {
        "id": "view-in-github",
        "colab_type": "text"
      },
      "source": [
        "<a href=\"https://colab.research.google.com/github/akajammythakkar/python-basics/blob/main/Python_Basics.ipynb\" target=\"_parent\"><img src=\"https://colab.research.google.com/assets/colab-badge.svg\" alt=\"Open In Colab\"/></a>"
      ]
    },
    {
      "cell_type": "markdown",
      "metadata": {
        "id": "cRnucN8HOX2B"
      },
      "source": [
        "### Python Basics"
      ]
    },
    {
      "cell_type": "markdown",
      "metadata": {
        "id": "V3yzVHd-OX2D"
      },
      "source": [
        "### Input/Output examples"
      ]
    },
    {
      "cell_type": "code",
      "execution_count": 2,
      "metadata": {
        "id": "VDi59JxtOX2D",
        "outputId": "e383663f-0e7b-4a63-a934-e6f52ecf0ca4",
        "colab": {
          "base_uri": "https://localhost:8080/"
        }
      },
      "outputs": [
        {
          "output_type": "stream",
          "name": "stdout",
          "text": [
            "Hello, World!\n",
            "What is your name? Jay Thakkar\n",
            "Nice to meet you, Jay Thakkar!\n",
            "What is your age? 23\n",
            "You are {age} years old.\n"
          ]
        }
      ],
      "source": [
        "print(\"Hello, World!\")\n",
        "name = input(\"What is your name? \")\n",
        "print(f\"Nice to meet you, {name}!\")\n",
        "age = int(input(\"What is your age? \"))\n",
        "print(f\"You are {age} years old.\")"
      ]
    },
    {
      "cell_type": "code",
      "source": [
        "name = input(\"What is your name? \")\n",
        "print(f\"Nice to meet you, {name}!\")"
      ],
      "metadata": {
        "id": "8P-RnBjFQ7oQ",
        "outputId": "01d5f552-b4f4-469b-8cae-57cefe7cc2ce",
        "colab": {
          "base_uri": "https://localhost:8080/"
        }
      },
      "execution_count": 3,
      "outputs": [
        {
          "output_type": "stream",
          "name": "stdout",
          "text": [
            "What is your name? Jay Thakkar\n",
            "Nice to meet you, Jay Thakkar!\n"
          ]
        }
      ]
    },
    {
      "cell_type": "code",
      "source": [
        "age = int(input(\"What is your age? \"))\n",
        "print(f\"You are {age} years old.\")"
      ],
      "metadata": {
        "id": "YYwQnyEwRL3d",
        "outputId": "11180e6d-a4c7-462f-d345-bc8bc446b7a8",
        "colab": {
          "base_uri": "https://localhost:8080/"
        }
      },
      "execution_count": 5,
      "outputs": [
        {
          "output_type": "stream",
          "name": "stdout",
          "text": [
            "What is your age? 23\n",
            "You are 23 years old.\n"
          ]
        }
      ]
    },
    {
      "cell_type": "markdown",
      "metadata": {
        "id": "WxcZ0UkjOX2E"
      },
      "source": [
        "#### Comment examples"
      ]
    },
    {
      "cell_type": "code",
      "execution_count": null,
      "metadata": {
        "id": "5O_oFzX1OX2F",
        "outputId": "0b108024-26f7-478a-c1ac-8e9c3ffe1663"
      },
      "outputs": [
        {
          "name": "stdout",
          "output_type": "stream",
          "text": [
            "HI\n",
            "Hi\n"
          ]
        }
      ],
      "source": [
        "# This is a single-line comment\n",
        "\n",
        "# C Language and Java language\n",
        "# '//' to comment and java\n",
        "# '/* Multi Line Comment */'\n",
        "\n",
        "\"\"\"\n",
        "This is a\n",
        "multi-line comment\n",
        "\"\"\"\n",
        "\n",
        "print(\"HI\") # This way we comment\n",
        "\n",
        "# Print Hi (in this way also we can comment)\n",
        "print(\"Hi\")"
      ]
    },
    {
      "cell_type": "markdown",
      "metadata": {
        "id": "UDDV72DoOX2F"
      },
      "source": [
        "#### Variable examples"
      ]
    },
    {
      "cell_type": "code",
      "execution_count": 6,
      "metadata": {
        "id": "508pn-pCOX2F",
        "outputId": "6dd6fa8b-fbf5-46c0-d522-a647dcb5c457",
        "colab": {
          "base_uri": "https://localhost:8080/"
        }
      },
      "outputs": [
        {
          "output_type": "stream",
          "name": "stdout",
          "text": [
            "3.14\n",
            "TFUG\n"
          ]
        }
      ],
      "source": [
        "# # C and Java\n",
        "# int a = 10\n",
        "# int b = 2-0\n",
        "\n",
        "x = 10 # int\n",
        "y = 3.14 # float\n",
        "print(y) # Float\n",
        "name = \"Alice\" # String\n",
        "is_student = True # Boolean\n",
        "count = 0 # int\n",
        "total = 0.0 # float\n",
        "message = \"\" # empty string\n",
        "flag = False # Boolean\n",
        "y = \"TFUG\" # String\n",
        "print(y) # String"
      ]
    },
    {
      "cell_type": "markdown",
      "metadata": {
        "id": "Nyvlp6f_OX2G"
      },
      "source": [
        "#### Data type examples"
      ]
    },
    {
      "cell_type": "code",
      "execution_count": 13,
      "metadata": {
        "id": "CBy0qA2qOX2G",
        "outputId": "039d9590-122c-47d6-9146-e08056eb856a",
        "colab": {
          "base_uri": "https://localhost:8080/"
        }
      },
      "outputs": [
        {
          "output_type": "stream",
          "name": "stdout",
          "text": [
            "Set Example: {1, 2, 3, 4, 5, 6}\n",
            "{'name': ['TFUG', 'Machine Learning'], 'age': 25}\n"
          ]
        }
      ],
      "source": [
        "integer = 42\n",
        "float_num = 3.14\n",
        "complex_num = 3 + 4j\n",
        "string = \"Hello, Python!\"\n",
        "boolean = True\n",
        "list_example = [1, 2, 3, 4, 5]\n",
        "tuple_example = (1, 2, 3, 4, 5)\n",
        "set_example = {1, 2,6, 3, 4, 5, 5, 5}\n",
        "print(f\"Set Example: {set_example}\")\n",
        "# print(f\"Set Example: {set_examplee}\")\n",
        "dict_example = {\"name\": \"Alice\", \"age\": 25, \"name\": [\"TFUG\",\"Machine Learning\"]}\n",
        "# dict_example[\"tfug\"] = \"Aurangabad/Sambajinagar\"\n",
        "print(dict_example)"
      ]
    },
    {
      "cell_type": "markdown",
      "metadata": {
        "id": "VvBpm0AwOX2G"
      },
      "source": [
        "#### Typecasting examples"
      ]
    },
    {
      "cell_type": "code",
      "execution_count": 20,
      "metadata": {
        "id": "A_YfqviTOX2H",
        "outputId": "8af78d22-a790-46c8-816e-86368edc0a97",
        "colab": {
          "base_uri": "https://localhost:8080/"
        }
      },
      "outputs": [
        {
          "output_type": "stream",
          "name": "stdout",
          "text": [
            "type of 3.14 before type casting <class 'float'> and after: <class 'int'> and value is 3\n",
            "type of 42 before type casting <class 'int'> and after: <class 'float'> and value is 42.0\n",
            "type of 42 before type casting <class 'int'> and after: <class 'str'> and value is 123\n",
            "type of 42 before type casting <class 'str'> and after: <class 'bool'> and value is True\n"
          ]
        }
      ],
      "source": [
        "int_from_float = int(3.98)\n",
        "print(f\"type of 3.14 before type casting {type(3.14)} and after: {type(int_from_float)} and value is {int_from_float}\")\n",
        "float_from_int = float(42)\n",
        "print(f\"type of 42 before type casting {type(42)} and after: {type(float_from_int)} and value is {float_from_int}\")\n",
        "str_from_int = str(123)\n",
        "print(f\"type of 42 before type casting {type(123)} and after: {type(str_from_int)} and value is {str_from_int}\")\n",
        "int_from_str = int(\"456\")\n",
        "float_from_str = float(\"3.14\")\n",
        "bool_from_str = bool(\"True\")\n",
        "print(f\"type of 42 before type casting {type('True')} and after: {type(bool_from_str)} and value is {bool_from_str}\")\n"
      ]
    },
    {
      "cell_type": "markdown",
      "metadata": {
        "id": "mYtBsB7gOX2H"
      },
      "source": [
        "#### More data type examples"
      ]
    },
    {
      "cell_type": "code",
      "execution_count": null,
      "metadata": {
        "id": "p-1iXN5bOX2H"
      },
      "outputs": [],
      "source": [
        "list_of_strings = [\"apple\", \"banana\", \"cherry\"]\n",
        "tuple_of_tuples = ((1, 2), (3, 4), (5, 6))\n",
        "set_of_tuples = {(1, 2), (3, 4), (5, 6)}\n",
        "dict_of_lists = {\"fruits\": [\"apple\", \"banana\"], \"vegetables\": [\"carrot\", \"spinach\"]}"
      ]
    },
    {
      "cell_type": "markdown",
      "metadata": {
        "id": "iXOylRqkOX2H"
      },
      "source": [
        "#### More typecasting examples"
      ]
    },
    {
      "cell_type": "code",
      "execution_count": null,
      "metadata": {
        "id": "_aJmpb4dOX2H"
      },
      "outputs": [],
      "source": [
        "int_from_bool = int(True)\n",
        "float_from_bool = float(False)\n",
        "str_from_list = str([1, 2, 3])\n",
        "list_from_str = list(\"Python\")\n",
        "tuple_from_list = tuple([1, 2, 3])\n",
        "set_from_list = set([1, 2, 3, 2, 1])"
      ]
    },
    {
      "cell_type": "code",
      "execution_count": null,
      "metadata": {
        "id": "LmNOZzPXOX2I"
      },
      "outputs": [],
      "source": []
    }
  ],
  "metadata": {
    "kernelspec": {
      "display_name": "Python 3 (ipykernel)",
      "language": "python",
      "name": "python3"
    },
    "language_info": {
      "codemirror_mode": {
        "name": "ipython",
        "version": 3
      },
      "file_extension": ".py",
      "mimetype": "text/x-python",
      "name": "python",
      "nbconvert_exporter": "python",
      "pygments_lexer": "ipython3",
      "version": "3.10.14"
    },
    "colab": {
      "provenance": [],
      "include_colab_link": true
    }
  },
  "nbformat": 4,
  "nbformat_minor": 0
}